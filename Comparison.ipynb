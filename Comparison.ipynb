{
 "cells": [
  {
   "cell_type": "markdown",
   "metadata": {},
   "source": [
    "# Comparison of VTK and PyVista\n",
    "\n",
    "\n",
    "The [Visualization Toolkit (VTK)](https://vtk.org/) is an excellent visualization framework, and with Python bindings it should be able to combine the speed of C++ with the rapid prototyping of Python.\n",
    "However, VTK code programmed in Python generally looks the same as its C++ counterpart.\n",
    "The PyVista software seeks to simplify mesh creation and plotting without losing the functionality of the underlying VTK software.\n",
    "\n",
    "Included in the `data` directory is an example 3D mesh of a salt body in the [PLY file format](http://paulbourke.net/dataformats/ply/) that is visualized by VTK Python code in the first code block and by PyVista Python code in the second code block."
   ]
  },
  {
   "cell_type": "markdown",
   "metadata": {},
   "source": [
    "## VTK Code"
   ]
  },
  {
   "cell_type": "code",
   "execution_count": null,
   "metadata": {},
   "outputs": [],
   "source": [
    "import vtk\n",
    "\n",
    "# create reader\n",
    "reader = vtk.vtkPLYReader()\n",
    "reader.SetFileName(\"data/salt_body.ply\")\n",
    "\n",
    "mapper = vtk.vtkPolyDataMapper()\n",
    "if vtk.VTK_MAJOR_VERSION <= 5:\n",
    "    mapper.SetInput(reader.GetOutput())\n",
    "else:\n",
    "    mapper.SetInputConnection(reader.GetOutputPort())\n",
    "\n",
    "# create actor\n",
    "actor = vtk.vtkActor()\n",
    "actor.SetMapper(mapper)\n",
    "\n",
    "# Create a rendering window and renderer\n",
    "ren = vtk.vtkRenderer()\n",
    "renWin = vtk.vtkRenderWindow()\n",
    "renWin.AddRenderer(ren)\n",
    "\n",
    "# Create a renderwindowinteractor\n",
    "iren = vtk.vtkRenderWindowInteractor()\n",
    "iren.SetRenderWindow(renWin)\n",
    "\n",
    "# Assign actor to the renderer\n",
    "ren.AddActor(actor)\n",
    "\n",
    "# Enable user interface interactor\n",
    "iren.Initialize()\n",
    "renWin.Render()\n",
    "iren.Start()\n",
    "\n",
    "# clean up objects\n",
    "del iren\n",
    "del renWin"
   ]
  },
  {
   "cell_type": "markdown",
   "metadata": {},
   "source": [
    "## PyVista Code"
   ]
  },
  {
   "cell_type": "code",
   "execution_count": null,
   "metadata": {},
   "outputs": [],
   "source": [
    "import pyvista as pv\n",
    "\n",
    "# read the 3D file\n",
    "mesh = pv.read(\"data/salt_body.ply\")\n",
    "\n",
    "# visualize the mesh object\n",
    "mesh.plot()"
   ]
  },
  {
   "cell_type": "code",
   "execution_count": null,
   "metadata": {},
   "outputs": [],
   "source": []
  }
 ],
 "metadata": {
  "kernelspec": {
   "display_name": "Python [conda env:thesis-environment]",
   "language": "python",
   "name": "conda-env-thesis-environment-py"
  },
  "language_info": {
   "codemirror_mode": {
    "name": "ipython",
    "version": 3
   },
   "file_extension": ".py",
   "mimetype": "text/x-python",
   "name": "python",
   "nbconvert_exporter": "python",
   "pygments_lexer": "ipython3",
   "version": "3.7.6"
  }
 },
 "nbformat": 4,
 "nbformat_minor": 4
}
